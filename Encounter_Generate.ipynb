{
 "cells": [
  {
   "cell_type": "markdown",
   "metadata": {},
   "source": [
    "### Let's import all the useful libraries in the world. So we don't get stuck with an ugly error later on!"
   ]
  },
  {
   "cell_type": "code",
   "execution_count": 2,
   "metadata": {
    "collapsed": false
   },
   "outputs": [],
   "source": [
    "import pandas as pd\n",
    "from geopy.distance import vincenty\n",
    "import geohash\n",
    "import numpy as np\n",
    "import csv\n",
    "import operator\n",
    "import collections\n",
    "import datetime\n",
    "from datetime import datetime\n",
    "from collections import defaultdict"
   ]
  },
  {
   "cell_type": "markdown",
   "metadata": {},
   "source": [
    "### With that out of the way, the next step is to read data from the masterfile! \n",
    "(Which has latitude, longitude, PersonID, altitude, elevation -- all the data that we have collected).\n",
    "\n",
    "We add a column 'ts' with the date-time of the row."
   ]
  },
  {
   "cell_type": "code",
   "execution_count": 3,
   "metadata": {
    "collapsed": false
   },
   "outputs": [],
   "source": [
    "df = pd.read_csv('masterfile.csv')\n",
    "df['ts'] = pd.to_datetime(df.time)"
   ]
  },
  {
   "cell_type": "markdown",
   "metadata": {},
   "source": [
    "### Some pre-processing to do: \n",
    "* Sort all the ID's in place. so all the rows with the same ID's occur together. GroupBy would also work?\n",
    "* How many days do we have data for Person x? [Create Dictionary of Persons mapped with Number of Days of Data collected]\n",
    "* Round off all the timestamps to 5min intervals"
   ]
  },
  {
   "cell_type": "code",
   "execution_count": 4,
   "metadata": {
    "collapsed": false
   },
   "outputs": [
    {
     "name": "stderr",
     "output_type": "stream",
     "text": [
      "/usr/local/lib/python2.7/dist-packages/ipykernel/__main__.py:1: FutureWarning: sort(columns=....) is deprecated, use sort_values(by=.....)\n",
      "  if __name__ == '__main__':\n"
     ]
    }
   ],
   "source": [
    "df.sort(columns=['ID'], inplace=True)\n",
    "names=df['ID'].unique().tolist()\n",
    "\n",
    "people = {}\n",
    "for n in names:\n",
    "    select = df.loc[df['ID']==n]\n",
    "    people[n] = len(select['Day'].unique())"
   ]
  },
  {
   "cell_type": "code",
   "execution_count": 12,
   "metadata": {
    "collapsed": true
   },
   "outputs": [],
   "source": [
    "def round_to_5min(t):\n",
    "    delta = pd.datetools.timedelta(minutes=t.minute%5, \n",
    "                               seconds=t.second, \n",
    "                               microseconds=t.microsecond)\n",
    "    t -= delta\n",
    "    if delta >= pd.datetools.timedelta(minutes=2.5):\n",
    "        t += pd.datetools.timedelta(minutes=5)\n",
    "    return t"
   ]
  },
  {
   "cell_type": "code",
   "execution_count": 13,
   "metadata": {
    "collapsed": true
   },
   "outputs": [],
   "source": [
    "df['ts10'] = df['ts'].apply(lambda x: round_to_5min(x))"
   ]
  },
  {
   "cell_type": "markdown",
   "metadata": {},
   "source": [
    "### Now let's delete all those Persons who have less than 5 days of data. \n",
    "\n",
    "We don't need you!"
   ]
  },
  {
   "cell_type": "code",
   "execution_count": 5,
   "metadata": {
    "collapsed": false
   },
   "outputs": [],
   "source": [
    "drop_ids = [p for p in people if people[p] <= 5]\n",
    "df = df.loc[~(df['ID'].isin(drop_ids))]"
   ]
  },
  {
   "cell_type": "markdown",
   "metadata": {},
   "source": [
    "### Let's begin with the real deal.\n",
    "* def midpoint(p1,p2): calculates midpoints between p1:(lat,lon) and p2:(lat,lon). outputs p3:(lat,lon).\n",
    "* def cij(piv,i,j,thrs=30): calculates the distance between person i and j for every datapoint. If the distance is <30m, it is counted as an encounter"
   ]
  },
  {
   "cell_type": "code",
   "execution_count": 7,
   "metadata": {
    "collapsed": true
   },
   "outputs": [],
   "source": [
    "def midpoint(p1, p2):\n",
    "    lat1,lon1 = p1 # JFK\n",
    "    lat2,lon2 =  p2# SIN\n",
    "\n",
    "    # Compute path from 1 to 2\n",
    "    g = Geodesic.WGS84.Inverse(lat1, lon1, lat2, lon2);\n",
    "\n",
    "    # Compute midpoint starting at 1\n",
    "    h1 = Geodesic.WGS84.Direct(lat1, lon1, g['azi1'], g['s12']/2);\n",
    "    # Alternatively, compute midpoint starting at 2\n",
    "    h2 = Geodesic.WGS84.Direct(lat2, lon2, g['azi2'], -g['s12']/2);\n",
    "    return (h2['lat2'],h2['lon2'])"
   ]
  },
  {
   "cell_type": "code",
   "execution_count": 8,
   "metadata": {
    "collapsed": true
   },
   "outputs": [],
   "source": [
    "def cij(piv, i,j, thrs=30):\n",
    "    '''\n",
    "    Generate the cij i and j\n",
    "    '''\n",
    "    #encounters\n",
    "    i_lat = piv['latitude'][i]\n",
    "    i_long = piv['longitude'][i]\n",
    "    j_lat = piv['latitude'][j]\n",
    "    j_long = piv['longitude'][j]\n",
    "    i_point = zip(i_lat, i_long)\n",
    "    j_point = zip(j_lat, j_long)\n",
    "    ## I am going to hell for this long comprehension, should the mean accuracy also be taken care of\n",
    "    ## next iteration.\n",
    "    dist = [vincenty(i_point[i], j_point[i]).meters  if pd.notnull(i_point[i][0]) and pd.notnull(j_point[i][0]) else 9999 for i in range(0, len(i_point))]\n",
    "    encounters = [1 if x<=thrs else 0 for x in dist]\n",
    "    return encounters"
   ]
  },
  {
   "cell_type": "code",
   "execution_count": 14,
   "metadata": {
    "collapsed": false
   },
   "outputs": [],
   "source": [
    "trial = df[['ts10','ID','lat','lon','accuracy']].drop_duplicates(subset=['ts10','ID'])"
   ]
  },
  {
   "cell_type": "code",
   "execution_count": 15,
   "metadata": {
    "collapsed": false
   },
   "outputs": [],
   "source": [
    "piv = pd.pivot_table(trial, index='ts10', columns='ID' ,values = ['lat','lon','accuracy'])"
   ]
  },
  {
   "cell_type": "code",
   "execution_count": 16,
   "metadata": {
    "collapsed": true
   },
   "outputs": [],
   "source": [
    "piv = piv.asfreq('5Min', method=None)"
   ]
  },
  {
   "cell_type": "code",
   "execution_count": 19,
   "metadata": {
    "collapsed": false
   },
   "outputs": [
    {
     "data": {
      "text/html": [
       "<div>\n",
       "<table border=\"1\" class=\"dataframe\">\n",
       "  <thead>\n",
       "    <tr>\n",
       "      <th></th>\n",
       "      <th colspan=\"10\" halign=\"left\">lat</th>\n",
       "      <th>...</th>\n",
       "      <th colspan=\"10\" halign=\"left\">accuracy</th>\n",
       "    </tr>\n",
       "    <tr>\n",
       "      <th>ID</th>\n",
       "      <th>1rishabhtrivedi</th>\n",
       "      <th>adithyapsv</th>\n",
       "      <th>anshumanagrwl</th>\n",
       "      <th>anuj7chauhan</th>\n",
       "      <th>arch.b80</th>\n",
       "      <th>arkg1996</th>\n",
       "      <th>bhagyeshvikani</th>\n",
       "      <th>bhardwaj.rish</th>\n",
       "      <th>coolsush89</th>\n",
       "      <th>desai.deshna</th>\n",
       "      <th>...</th>\n",
       "      <th>rudra.chandak</th>\n",
       "      <th>sacheendra.t</th>\n",
       "      <th>sagarparikh31</th>\n",
       "      <th>samriddhisimlai</th>\n",
       "      <th>saumyadoshi</th>\n",
       "      <th>shaleen.k.gupta</th>\n",
       "      <th>tany.dudett</th>\n",
       "      <th>umangjparmar</th>\n",
       "      <th>vaibhav29.07.97</th>\n",
       "      <th>vraj2026</th>\n",
       "    </tr>\n",
       "    <tr>\n",
       "      <th>ts10</th>\n",
       "      <th></th>\n",
       "      <th></th>\n",
       "      <th></th>\n",
       "      <th></th>\n",
       "      <th></th>\n",
       "      <th></th>\n",
       "      <th></th>\n",
       "      <th></th>\n",
       "      <th></th>\n",
       "      <th></th>\n",
       "      <th></th>\n",
       "      <th></th>\n",
       "      <th></th>\n",
       "      <th></th>\n",
       "      <th></th>\n",
       "      <th></th>\n",
       "      <th></th>\n",
       "      <th></th>\n",
       "      <th></th>\n",
       "      <th></th>\n",
       "      <th></th>\n",
       "    </tr>\n",
       "  </thead>\n",
       "  <tbody>\n",
       "    <tr>\n",
       "      <th>2016-04-30</th>\n",
       "      <td>288</td>\n",
       "      <td>181</td>\n",
       "      <td>0</td>\n",
       "      <td>189</td>\n",
       "      <td>4</td>\n",
       "      <td>0</td>\n",
       "      <td>288</td>\n",
       "      <td>288</td>\n",
       "      <td>253</td>\n",
       "      <td>0</td>\n",
       "      <td>...</td>\n",
       "      <td>285</td>\n",
       "      <td>0</td>\n",
       "      <td>1</td>\n",
       "      <td>0</td>\n",
       "      <td>282</td>\n",
       "      <td>0</td>\n",
       "      <td>286</td>\n",
       "      <td>231</td>\n",
       "      <td>143</td>\n",
       "      <td>240</td>\n",
       "    </tr>\n",
       "    <tr>\n",
       "      <th>2016-05-01</th>\n",
       "      <td>253</td>\n",
       "      <td>285</td>\n",
       "      <td>0</td>\n",
       "      <td>237</td>\n",
       "      <td>16</td>\n",
       "      <td>2</td>\n",
       "      <td>288</td>\n",
       "      <td>277</td>\n",
       "      <td>288</td>\n",
       "      <td>163</td>\n",
       "      <td>...</td>\n",
       "      <td>287</td>\n",
       "      <td>0</td>\n",
       "      <td>0</td>\n",
       "      <td>0</td>\n",
       "      <td>229</td>\n",
       "      <td>0</td>\n",
       "      <td>242</td>\n",
       "      <td>208</td>\n",
       "      <td>254</td>\n",
       "      <td>146</td>\n",
       "    </tr>\n",
       "    <tr>\n",
       "      <th>2016-05-02</th>\n",
       "      <td>0</td>\n",
       "      <td>208</td>\n",
       "      <td>0</td>\n",
       "      <td>208</td>\n",
       "      <td>22</td>\n",
       "      <td>0</td>\n",
       "      <td>224</td>\n",
       "      <td>35</td>\n",
       "      <td>288</td>\n",
       "      <td>288</td>\n",
       "      <td>...</td>\n",
       "      <td>280</td>\n",
       "      <td>0</td>\n",
       "      <td>0</td>\n",
       "      <td>0</td>\n",
       "      <td>207</td>\n",
       "      <td>0</td>\n",
       "      <td>48</td>\n",
       "      <td>246</td>\n",
       "      <td>114</td>\n",
       "      <td>149</td>\n",
       "    </tr>\n",
       "    <tr>\n",
       "      <th>2016-05-03</th>\n",
       "      <td>0</td>\n",
       "      <td>277</td>\n",
       "      <td>0</td>\n",
       "      <td>189</td>\n",
       "      <td>26</td>\n",
       "      <td>2</td>\n",
       "      <td>288</td>\n",
       "      <td>288</td>\n",
       "      <td>202</td>\n",
       "      <td>288</td>\n",
       "      <td>...</td>\n",
       "      <td>280</td>\n",
       "      <td>0</td>\n",
       "      <td>0</td>\n",
       "      <td>0</td>\n",
       "      <td>275</td>\n",
       "      <td>0</td>\n",
       "      <td>272</td>\n",
       "      <td>232</td>\n",
       "      <td>0</td>\n",
       "      <td>210</td>\n",
       "    </tr>\n",
       "    <tr>\n",
       "      <th>2016-05-04</th>\n",
       "      <td>0</td>\n",
       "      <td>205</td>\n",
       "      <td>0</td>\n",
       "      <td>250</td>\n",
       "      <td>2</td>\n",
       "      <td>0</td>\n",
       "      <td>277</td>\n",
       "      <td>206</td>\n",
       "      <td>284</td>\n",
       "      <td>277</td>\n",
       "      <td>...</td>\n",
       "      <td>282</td>\n",
       "      <td>0</td>\n",
       "      <td>0</td>\n",
       "      <td>0</td>\n",
       "      <td>167</td>\n",
       "      <td>0</td>\n",
       "      <td>235</td>\n",
       "      <td>119</td>\n",
       "      <td>0</td>\n",
       "      <td>33</td>\n",
       "    </tr>\n",
       "  </tbody>\n",
       "</table>\n",
       "<p>5 rows × 138 columns</p>\n",
       "</div>"
      ],
      "text/plain": [
       "                       lat                                                 \\\n",
       "ID         1rishabhtrivedi adithyapsv anshumanagrwl anuj7chauhan arch.b80   \n",
       "ts10                                                                        \n",
       "2016-04-30             288        181             0          189        4   \n",
       "2016-05-01             253        285             0          237       16   \n",
       "2016-05-02               0        208             0          208       22   \n",
       "2016-05-03               0        277             0          189       26   \n",
       "2016-05-04               0        205             0          250        2   \n",
       "\n",
       "                                                                          \\\n",
       "ID         arkg1996 bhagyeshvikani bhardwaj.rish coolsush89 desai.deshna   \n",
       "ts10                                                                       \n",
       "2016-04-30        0            288           288        253            0   \n",
       "2016-05-01        2            288           277        288          163   \n",
       "2016-05-02        0            224            35        288          288   \n",
       "2016-05-03        2            288           288        202          288   \n",
       "2016-05-04        0            277           206        284          277   \n",
       "\n",
       "             ...         accuracy                                             \\\n",
       "ID           ...    rudra.chandak sacheendra.t sagarparikh31 samriddhisimlai   \n",
       "ts10         ...                                                               \n",
       "2016-04-30   ...              285            0             1               0   \n",
       "2016-05-01   ...              287            0             0               0   \n",
       "2016-05-02   ...              280            0             0               0   \n",
       "2016-05-03   ...              280            0             0               0   \n",
       "2016-05-04   ...              282            0             0               0   \n",
       "\n",
       "                                                                 \\\n",
       "ID         saumyadoshi shaleen.k.gupta tany.dudett umangjparmar   \n",
       "ts10                                                              \n",
       "2016-04-30         282               0         286          231   \n",
       "2016-05-01         229               0         242          208   \n",
       "2016-05-02         207               0          48          246   \n",
       "2016-05-03         275               0         272          232   \n",
       "2016-05-04         167               0         235          119   \n",
       "\n",
       "                                     \n",
       "ID         vaibhav29.07.97 vraj2026  \n",
       "ts10                                 \n",
       "2016-04-30             143      240  \n",
       "2016-05-01             254      146  \n",
       "2016-05-02             114      149  \n",
       "2016-05-03               0      210  \n",
       "2016-05-04               0       33  \n",
       "\n",
       "[5 rows x 138 columns]"
      ]
     },
     "execution_count": 19,
     "metadata": {},
     "output_type": "execute_result"
    }
   ],
   "source": [
    "piv.groupby(pd.TimeGrouper('D')).count().tail()"
   ]
  },
  {
   "cell_type": "code",
   "execution_count": 24,
   "metadata": {
    "collapsed": false
   },
   "outputs": [],
   "source": [
    "def encounter_data(piv, i,j):\n",
    "    '''\n",
    "    Generates a global list of all encounters that have happened in the dataset.\n",
    "    Information need about each encounter as of now\n",
    "     - timestamp\n",
    "     - middle point and consequently the geohash\n",
    "     - the pair\n",
    "    \n",
    "    '''\n",
    "    #global tot_timestamps,tot_lats,tot_longs,tot_geohash,tot_pairs, tot_encounters\n",
    "    original_i = i\n",
    "    original_j = j\n",
    "    \n",
    "    #encounters\n",
    "    i_lat = piv['lat'][i]\n",
    "    i_long = piv['lon'][i]\n",
    "    j_lat = piv['lat'][j]\n",
    "    j_long = piv['lon'][j]\n",
    "    i_point = zip(i_lat, i_long)\n",
    "    j_point = zip(j_lat, j_long)\n",
    "    num_days_data_present_i = [1  if pd.notnull(i_point[i][0]) else 0 for i in range(0, len(i_point))]\n",
    "    num_days_data_present_j = [1  if pd.notnull(j_point[j][0]) else 0 for j in range(0, len(j_point))]\n",
    "    min_days = min(sum(num_days_data_present_i),sum(num_days_data_present_j))\n",
    "    dist = [vincenty(i_point[i], j_point[i]).meters  if pd.notnull(i_point[i][0]) and pd.notnull(j_point[i][0]) else 9999 for i in range(0, min_days)]\n",
    "    encounters = [1 if x<=30 else 0 for x in dist]    \n",
    "    avg_days = float(sum(encounters))/float(min_days)\n",
    "\n",
    "    with open('encounter_master_thrsh_30.csv','ab') as f:\n",
    "        writer = csv.writer(f)\n",
    "        writer.writerow([original_i,original_j,avg_days,min_days,sum(encounters)])\n",
    "    return"
   ]
  },
  {
   "cell_type": "code",
   "execution_count": null,
   "metadata": {
    "collapsed": false
   },
   "outputs": [],
   "source": [
    "import itertools\n",
    "count = 0\n",
    "distance = pd.DataFrame()\n",
    "temp = ''\n",
    "l = []\n",
    "for subset in itertools.combinations(keys, 2):\n",
    "    i = subset[0]\n",
    "    j = subset[1]\n",
    "    if temp != i:\n",
    "        print i\n",
    "        temp = i\n",
    "    encounter_data(piv, i, j)\n",
    "print \"finished\""
   ]
  },
  {
   "cell_type": "code",
   "execution_count": null,
   "metadata": {
    "collapsed": true
   },
   "outputs": [],
   "source": []
  }
 ],
 "metadata": {
  "kernelspec": {
   "display_name": "Python 2",
   "language": "python",
   "name": "python2"
  },
  "language_info": {
   "codemirror_mode": {
    "name": "ipython",
    "version": 2
   },
   "file_extension": ".py",
   "mimetype": "text/x-python",
   "name": "python",
   "nbconvert_exporter": "python",
   "pygments_lexer": "ipython2",
   "version": "2.7.6"
  }
 },
 "nbformat": 4,
 "nbformat_minor": 0
}
