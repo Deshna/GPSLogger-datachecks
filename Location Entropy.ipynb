{
 "cells": [
  {
   "cell_type": "code",
   "execution_count": 1,
   "metadata": {
    "collapsed": false
   },
   "outputs": [],
   "source": [
    "import pandas as pd\n",
    "from geopy.distance import vincenty\n",
    "import geohash\n",
    "import numpy as np\n",
    "import csv\n",
    "import operator\n",
    "import collections\n",
    "import datetime\n",
    "from datetime import datetime\n",
    "from collections import defaultdict\n",
    "import pandas as pd, numpy as np, matplotlib.pyplot as plt\n",
    "from sklearn.cluster import DBSCAN\n",
    "from geopy.distance import great_circle\n",
    "import gmplot"
   ]
  },
  {
   "cell_type": "code",
   "execution_count": 2,
   "metadata": {
    "collapsed": true
   },
   "outputs": [],
   "source": [
    "df = pd.read_csv('masterfile.csv')\n",
    "df['ts'] = pd.to_datetime(df.time)"
   ]
  },
  {
   "cell_type": "code",
   "execution_count": 3,
   "metadata": {
    "collapsed": false
   },
   "outputs": [
    {
     "name": "stderr",
     "output_type": "stream",
     "text": [
      "/usr/local/lib/python2.7/dist-packages/ipykernel/__main__.py:1: FutureWarning: sort(columns=....) is deprecated, use sort_values(by=.....)\n",
      "  if __name__ == '__main__':\n"
     ]
    }
   ],
   "source": [
    "df.sort(columns=['ID'], inplace=True)\n",
    "names=df['ID'].unique().tolist()\n",
    "\n",
    "people = {}\n",
    "for n in names:\n",
    "    select = df.loc[df['ID']==n]\n",
    "    people[n] = len(select['Day'].unique())"
   ]
  },
  {
   "cell_type": "code",
   "execution_count": 4,
   "metadata": {
    "collapsed": true
   },
   "outputs": [],
   "source": [
    "def round_to_5min(t):\n",
    "    delta = pd.datetools.timedelta(minutes=t.minute%5, \n",
    "                               seconds=t.second, \n",
    "                               microseconds=t.microsecond)\n",
    "    t -= delta\n",
    "    if delta >= pd.datetools.timedelta(minutes=2.5):\n",
    "        t += pd.datetools.timedelta(minutes=5)\n",
    "    return t"
   ]
  },
  {
   "cell_type": "code",
   "execution_count": 5,
   "metadata": {
    "collapsed": true
   },
   "outputs": [],
   "source": [
    "df['ts10'] = df['ts'].apply(lambda x: round_to_5min(x))"
   ]
  },
  {
   "cell_type": "code",
   "execution_count": 6,
   "metadata": {
    "collapsed": true
   },
   "outputs": [],
   "source": [
    "drop_ids = [p for p in people if people[p] <= 5]\n",
    "df = df.loc[~(df['ID'].isin(drop_ids))]"
   ]
  },
  {
   "cell_type": "code",
   "execution_count": 7,
   "metadata": {
    "collapsed": true
   },
   "outputs": [],
   "source": [
    "trial = df[['ts10','ID','lat','lon','accuracy']].drop_duplicates(subset=['ts10','ID'])"
   ]
  },
  {
   "cell_type": "code",
   "execution_count": 8,
   "metadata": {
    "collapsed": true
   },
   "outputs": [],
   "source": [
    "piv = pd.pivot_table(trial, index='ts10', columns='ID' ,values = ['lat','lon','accuracy'])"
   ]
  },
  {
   "cell_type": "code",
   "execution_count": 9,
   "metadata": {
    "collapsed": true
   },
   "outputs": [],
   "source": [
    "piv = piv.asfreq('5Min', method=None)"
   ]
  },
  {
   "cell_type": "code",
   "execution_count": 10,
   "metadata": {
    "collapsed": false
   },
   "outputs": [
    {
     "data": {
      "text/html": [
       "<div>\n",
       "<table border=\"1\" class=\"dataframe\">\n",
       "  <thead>\n",
       "    <tr>\n",
       "      <th></th>\n",
       "      <th colspan=\"10\" halign=\"left\">lat</th>\n",
       "      <th>...</th>\n",
       "      <th colspan=\"10\" halign=\"left\">accuracy</th>\n",
       "    </tr>\n",
       "    <tr>\n",
       "      <th>ID</th>\n",
       "      <th>1rishabhtrivedi</th>\n",
       "      <th>adithyapsv</th>\n",
       "      <th>anshumanagrwl</th>\n",
       "      <th>anuj7chauhan</th>\n",
       "      <th>arch.b80</th>\n",
       "      <th>arkg1996</th>\n",
       "      <th>bhagyeshvikani</th>\n",
       "      <th>bhardwaj.rish</th>\n",
       "      <th>coolsush89</th>\n",
       "      <th>desai.deshna</th>\n",
       "      <th>...</th>\n",
       "      <th>rudra.chandak</th>\n",
       "      <th>sacheendra.t</th>\n",
       "      <th>sagarparikh31</th>\n",
       "      <th>samriddhisimlai</th>\n",
       "      <th>saumyadoshi</th>\n",
       "      <th>shaleen.k.gupta</th>\n",
       "      <th>tany.dudett</th>\n",
       "      <th>umangjparmar</th>\n",
       "      <th>vaibhav29.07.97</th>\n",
       "      <th>vraj2026</th>\n",
       "    </tr>\n",
       "    <tr>\n",
       "      <th>ts10</th>\n",
       "      <th></th>\n",
       "      <th></th>\n",
       "      <th></th>\n",
       "      <th></th>\n",
       "      <th></th>\n",
       "      <th></th>\n",
       "      <th></th>\n",
       "      <th></th>\n",
       "      <th></th>\n",
       "      <th></th>\n",
       "      <th></th>\n",
       "      <th></th>\n",
       "      <th></th>\n",
       "      <th></th>\n",
       "      <th></th>\n",
       "      <th></th>\n",
       "      <th></th>\n",
       "      <th></th>\n",
       "      <th></th>\n",
       "      <th></th>\n",
       "      <th></th>\n",
       "    </tr>\n",
       "  </thead>\n",
       "  <tbody>\n",
       "    <tr>\n",
       "      <th>2016-04-30</th>\n",
       "      <td>288</td>\n",
       "      <td>181</td>\n",
       "      <td>0</td>\n",
       "      <td>189</td>\n",
       "      <td>4</td>\n",
       "      <td>0</td>\n",
       "      <td>288</td>\n",
       "      <td>288</td>\n",
       "      <td>253</td>\n",
       "      <td>0</td>\n",
       "      <td>...</td>\n",
       "      <td>285</td>\n",
       "      <td>0</td>\n",
       "      <td>1</td>\n",
       "      <td>0</td>\n",
       "      <td>282</td>\n",
       "      <td>0</td>\n",
       "      <td>286</td>\n",
       "      <td>231</td>\n",
       "      <td>143</td>\n",
       "      <td>240</td>\n",
       "    </tr>\n",
       "    <tr>\n",
       "      <th>2016-05-01</th>\n",
       "      <td>253</td>\n",
       "      <td>285</td>\n",
       "      <td>0</td>\n",
       "      <td>237</td>\n",
       "      <td>16</td>\n",
       "      <td>2</td>\n",
       "      <td>288</td>\n",
       "      <td>277</td>\n",
       "      <td>288</td>\n",
       "      <td>163</td>\n",
       "      <td>...</td>\n",
       "      <td>287</td>\n",
       "      <td>0</td>\n",
       "      <td>0</td>\n",
       "      <td>0</td>\n",
       "      <td>229</td>\n",
       "      <td>0</td>\n",
       "      <td>242</td>\n",
       "      <td>208</td>\n",
       "      <td>254</td>\n",
       "      <td>146</td>\n",
       "    </tr>\n",
       "    <tr>\n",
       "      <th>2016-05-02</th>\n",
       "      <td>0</td>\n",
       "      <td>208</td>\n",
       "      <td>0</td>\n",
       "      <td>208</td>\n",
       "      <td>22</td>\n",
       "      <td>0</td>\n",
       "      <td>224</td>\n",
       "      <td>35</td>\n",
       "      <td>288</td>\n",
       "      <td>288</td>\n",
       "      <td>...</td>\n",
       "      <td>280</td>\n",
       "      <td>0</td>\n",
       "      <td>0</td>\n",
       "      <td>0</td>\n",
       "      <td>207</td>\n",
       "      <td>0</td>\n",
       "      <td>48</td>\n",
       "      <td>246</td>\n",
       "      <td>114</td>\n",
       "      <td>149</td>\n",
       "    </tr>\n",
       "    <tr>\n",
       "      <th>2016-05-03</th>\n",
       "      <td>0</td>\n",
       "      <td>277</td>\n",
       "      <td>0</td>\n",
       "      <td>189</td>\n",
       "      <td>26</td>\n",
       "      <td>2</td>\n",
       "      <td>288</td>\n",
       "      <td>288</td>\n",
       "      <td>202</td>\n",
       "      <td>288</td>\n",
       "      <td>...</td>\n",
       "      <td>280</td>\n",
       "      <td>0</td>\n",
       "      <td>0</td>\n",
       "      <td>0</td>\n",
       "      <td>275</td>\n",
       "      <td>0</td>\n",
       "      <td>272</td>\n",
       "      <td>232</td>\n",
       "      <td>0</td>\n",
       "      <td>210</td>\n",
       "    </tr>\n",
       "    <tr>\n",
       "      <th>2016-05-04</th>\n",
       "      <td>0</td>\n",
       "      <td>205</td>\n",
       "      <td>0</td>\n",
       "      <td>250</td>\n",
       "      <td>2</td>\n",
       "      <td>0</td>\n",
       "      <td>277</td>\n",
       "      <td>206</td>\n",
       "      <td>284</td>\n",
       "      <td>277</td>\n",
       "      <td>...</td>\n",
       "      <td>282</td>\n",
       "      <td>0</td>\n",
       "      <td>0</td>\n",
       "      <td>0</td>\n",
       "      <td>167</td>\n",
       "      <td>0</td>\n",
       "      <td>235</td>\n",
       "      <td>119</td>\n",
       "      <td>0</td>\n",
       "      <td>33</td>\n",
       "    </tr>\n",
       "  </tbody>\n",
       "</table>\n",
       "<p>5 rows × 138 columns</p>\n",
       "</div>"
      ],
      "text/plain": [
       "                       lat                                                 \\\n",
       "ID         1rishabhtrivedi adithyapsv anshumanagrwl anuj7chauhan arch.b80   \n",
       "ts10                                                                        \n",
       "2016-04-30             288        181             0          189        4   \n",
       "2016-05-01             253        285             0          237       16   \n",
       "2016-05-02               0        208             0          208       22   \n",
       "2016-05-03               0        277             0          189       26   \n",
       "2016-05-04               0        205             0          250        2   \n",
       "\n",
       "                                                                          \\\n",
       "ID         arkg1996 bhagyeshvikani bhardwaj.rish coolsush89 desai.deshna   \n",
       "ts10                                                                       \n",
       "2016-04-30        0            288           288        253            0   \n",
       "2016-05-01        2            288           277        288          163   \n",
       "2016-05-02        0            224            35        288          288   \n",
       "2016-05-03        2            288           288        202          288   \n",
       "2016-05-04        0            277           206        284          277   \n",
       "\n",
       "             ...         accuracy                                             \\\n",
       "ID           ...    rudra.chandak sacheendra.t sagarparikh31 samriddhisimlai   \n",
       "ts10         ...                                                               \n",
       "2016-04-30   ...              285            0             1               0   \n",
       "2016-05-01   ...              287            0             0               0   \n",
       "2016-05-02   ...              280            0             0               0   \n",
       "2016-05-03   ...              280            0             0               0   \n",
       "2016-05-04   ...              282            0             0               0   \n",
       "\n",
       "                                                                 \\\n",
       "ID         saumyadoshi shaleen.k.gupta tany.dudett umangjparmar   \n",
       "ts10                                                              \n",
       "2016-04-30         282               0         286          231   \n",
       "2016-05-01         229               0         242          208   \n",
       "2016-05-02         207               0          48          246   \n",
       "2016-05-03         275               0         272          232   \n",
       "2016-05-04         167               0         235          119   \n",
       "\n",
       "                                     \n",
       "ID         vaibhav29.07.97 vraj2026  \n",
       "ts10                                 \n",
       "2016-04-30             143      240  \n",
       "2016-05-01             254      146  \n",
       "2016-05-02             114      149  \n",
       "2016-05-03               0      210  \n",
       "2016-05-04               0       33  \n",
       "\n",
       "[5 rows x 138 columns]"
      ]
     },
     "execution_count": 10,
     "metadata": {},
     "output_type": "execute_result"
    }
   ],
   "source": [
    "piv.groupby(pd.TimeGrouper('D')).count().tail()"
   ]
  },
  {
   "cell_type": "code",
   "execution_count": 11,
   "metadata": {
    "collapsed": true
   },
   "outputs": [],
   "source": [
    "import itertools\n",
    "ts = piv.index.tolist()\n",
    "\n",
    "m = [list(g) for k, g in itertools.groupby(ts, key=lambda d: d.date())]\n",
    "dates = list(set(map(lambda t: t.date(),ts)))"
   ]
  },
  {
   "cell_type": "code",
   "execution_count": 12,
   "metadata": {
    "collapsed": false
   },
   "outputs": [
    {
     "name": "stdout",
     "output_type": "stream",
     "text": [
      "116\n",
      "2016-03-15 00:00:00\n"
     ]
    }
   ],
   "source": [
    "select = df.loc[df['ts10']=='2016-04-20 02:00:00']\n",
    "print len(select)\n",
    "print m[50][0]"
   ]
  },
  {
   "cell_type": "code",
   "execution_count": 13,
   "metadata": {
    "collapsed": false
   },
   "outputs": [
    {
     "name": "stdout",
     "output_type": "stream",
     "text": [
      "Number of clusters: 5\n"
     ]
    }
   ],
   "source": [
    "for i in range(50,len(m)):\n",
    "    select = df.loc[df['ts10']=='2016-04-20 02:00:00']\n",
    "    data_ = select[['lat','lon']]\n",
    "    data = data_.as_matrix()\n",
    "    kms_per_radian = 6371.0088\n",
    "    epsilon = 0.02 / kms_per_radian\n",
    "    db = DBSCAN(eps=epsilon, min_samples=10, algorithm='ball_tree', metric='haversine').fit(np.radians(data))\n",
    "    cluster_labels = db.labels_\n",
    "    num_clusters = len(set(cluster_labels))\n",
    "    clusters = pd.Series([data[cluster_labels == n] for n in range(num_clusters)])\n",
    "    print('Number of clusters: {}'.format(num_clusters))\n",
    "    break"
   ]
  },
  {
   "cell_type": "code",
   "execution_count": 14,
   "metadata": {
    "collapsed": false
   },
   "outputs": [
    {
     "name": "stdout",
     "output_type": "stream",
     "text": [
      "[[ 23.190571  72.628358]\n",
      " [ 23.19051   72.628306]\n",
      " [ 23.19051   72.628268]\n",
      " [ 23.190514  72.62822 ]\n",
      " [ 23.190514  72.62822 ]\n",
      " [ 23.190474  72.628265]\n",
      " [ 23.190531  72.62819 ]\n",
      " [ 23.190564  72.628227]\n",
      " [ 23.190546  72.628195]\n",
      " [ 23.190534  72.628196]\n",
      " [ 23.190535  72.628198]\n",
      " [ 23.190537  72.628201]\n",
      " [ 23.190543  72.628197]\n",
      " [ 23.19053   72.628188]]\n"
     ]
    }
   ],
   "source": [
    "print clusters[3]\n"
   ]
  },
  {
   "cell_type": "code",
   "execution_count": 81,
   "metadata": {
    "collapsed": false
   },
   "outputs": [],
   "source": [
    "'''\n",
    "interact inputs: timestamp, epsilon (in Kms |float), min_samples (int)\n",
    "interact output: plot\n",
    "\n",
    "eps : float, optional\n",
    "\n",
    "    The maximum distance between two samples for them to be considered as in the same neighborhood.\n",
    "\n",
    "min_samples : int, optional\n",
    "\n",
    "    The number of samples (or total weight) in a neighborhood for a point to be considered as a core point. This includes the point itself.\n",
    "\n",
    "'''\n",
    "def plot(ts,min_s,eps):\n",
    "    select = df.loc[df['ts10']==ts]\n",
    "    data_ = select[['lat','lon']]\n",
    "    data = data_.as_matrix()\n",
    "    kms_per_radian = 6371.0088\n",
    "    epsilon = eps / kms_per_radian\n",
    "    db = DBSCAN(eps=epsilon, min_samples=min_s, algorithm='ball_tree', metric='haversine').fit(np.radians(data))\n",
    "    cluster_labels = db.labels_\n",
    "    num_clusters = len(set(cluster_labels))\n",
    "    clusters = pd.Series([data[cluster_labels == n] for n in range(num_clusters)])\n",
    "    print('Number of clusters: {}'.format(num_clusters))\n",
    "    colors= ['#FF0000','cornflowerblue','#FFFF00','#E9967A','#800000',\n",
    "            '#ADD8E6','#00FF00','#FFA500','#C0C0C0','#C6DEFF',\n",
    "            '#99C68E','#99C68E','#9DC209','#9DC209','#9DC209',\n",
    "            '#ECE5B6','#ECE5B6','#E2A76F','#E2A76F','#A3FFCB',\n",
    "            '#A3FFCB','#6F4E37','#E55451','#B38481','#E8ADAA',\n",
    "            '#E0B0FF','#8467D7','#B8D667','#D66793','#908921','#21288F']\n",
    "    gmap = gmplot.GoogleMapPlotter(23.188292, 72.628430,17)\n",
    "    for i in range(0,len(clusters)):\n",
    "        gmap.plot(clusters[i][:,0],clusters[i][:,1],c=colors[i],edge_width=10)\n",
    "    gmap.scatter(data_['lat'], data_['lon'], color='k', size=2,marker=False)#,fill_color='fill', line_color=\"black\",marker=False)\n",
    "    gmap.draw(\"mymap.html\")"
   ]
  },
  {
   "cell_type": "code",
   "execution_count": 82,
   "metadata": {
    "collapsed": false
   },
   "outputs": [
    {
     "name": "stdout",
     "output_type": "stream",
     "text": [
      "Number of clusters: 23\n"
     ]
    }
   ],
   "source": [
    "plot('2016-04-20 9:00:00',1,0.02)"
   ]
  },
  {
   "cell_type": "code",
   "execution_count": 27,
   "metadata": {
    "collapsed": false
   },
   "outputs": [],
   "source": [
    "'''colors= ['#FF0000','cornflowerblue','#FFFF00','#E9967A','#800000']\n",
    "gmap = gmplot.GoogleMapPlotter(23.188292, 72.628430,17)\n",
    "for i in range(0,len(clusters)):\n",
    "    gmap.plot(clusters[i][:,0],clusters[i][:,1],colors[i],edge_width=10)\n",
    "gmap.scatter(data_['lat'], data_['lon'], '#3B0B39', size=1, marker=False)\n",
    "gmap.draw(\"mymap.html\")'''"
   ]
  },
  {
   "cell_type": "code",
   "execution_count": null,
   "metadata": {
    "collapsed": true
   },
   "outputs": [],
   "source": [
    "# ToDo: google maps plots for ipynbs: https://github.com/pbugnion/gmaps"
   ]
  },
  {
   "cell_type": "code",
   "execution_count": 66,
   "metadata": {
    "collapsed": false
   },
   "outputs": [],
   "source": []
  },
  {
   "cell_type": "code",
   "execution_count": 64,
   "metadata": {
    "collapsed": false
   },
   "outputs": [],
   "source": []
  },
  {
   "cell_type": "code",
   "execution_count": null,
   "metadata": {
    "collapsed": true
   },
   "outputs": [],
   "source": []
  }
 ],
 "metadata": {
  "kernelspec": {
   "display_name": "Python 2",
   "language": "python",
   "name": "python2"
  },
  "language_info": {
   "codemirror_mode": {
    "name": "ipython",
    "version": 2
   },
   "file_extension": ".py",
   "mimetype": "text/x-python",
   "name": "python",
   "nbconvert_exporter": "python",
   "pygments_lexer": "ipython2",
   "version": "2.7.6"
  }
 },
 "nbformat": 4,
 "nbformat_minor": 0
}
