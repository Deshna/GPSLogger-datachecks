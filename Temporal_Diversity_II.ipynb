{
 "cells": [
  {
   "cell_type": "code",
   "execution_count": 6,
   "metadata": {
    "collapsed": true
   },
   "outputs": [],
   "source": [
    "import pandas as pd\n",
    "from geopy.distance import vincenty\n",
    "import geohash\n",
    "import numpy as np\n",
    "import csv\n",
    "import operator\n",
    "import collections\n",
    "import datetime\n",
    "from datetime import datetime\n",
    "from collections import defaultdict\n",
    "from tqdm import tqdm_notebook"
   ]
  },
  {
   "cell_type": "code",
   "execution_count": 2,
   "metadata": {
    "collapsed": true
   },
   "outputs": [],
   "source": [
    "trial = pd.read_csv('pivot_table.csv')"
   ]
  },
  {
   "cell_type": "code",
   "execution_count": 3,
   "metadata": {
    "collapsed": true
   },
   "outputs": [],
   "source": [
    "piv = pd.pivot_table(trial, index='ts10', columns='ID' ,values = ['lat','lon','accuracy'])"
   ]
  },
  {
   "cell_type": "code",
   "execution_count": 4,
   "metadata": {
    "collapsed": true
   },
   "outputs": [],
   "source": [
    "piv = piv.asfreq('5Min', method=None)"
   ]
  },
  {
   "cell_type": "code",
   "execution_count": 5,
   "metadata": {
    "collapsed": true
   },
   "outputs": [],
   "source": [
    "def cij(piv, i,j, thrs=30):\n",
    "    '''\n",
    "    Generate the cij i and j\n",
    "    '''\n",
    "    #encounters\n",
    "    i_lat = piv['lat'][i]\n",
    "    i_long = piv['lon'][i]\n",
    "    j_lat = piv['lat'][j]\n",
    "    j_long = piv['lon'][j]\n",
    "    i_point = zip(i_lat, i_long)\n",
    "    j_point = zip(j_lat, j_long)\n",
    "    dist = [vincenty(i_point[i], j_point[i]).meters  if pd.notnull(i_point[i][0]) and pd.notnull(j_point[i][0]) else 9999 for i in range(0, len(i_point))]\n",
    "    encounters = [1 if x<=thrs else 0 for x in dist]\n",
    "    return encounters"
   ]
  },
  {
   "cell_type": "code",
   "execution_count": 9,
   "metadata": {
    "collapsed": false
   },
   "outputs": [
    {
     "name": "stdout",
     "output_type": "stream",
     "text": [
      "\n"
     ]
    }
   ],
   "source": [
    "keys = trial.ID.unique()\n",
    "\n",
    "import itertools\n",
    "count = 0\n",
    "distance = pd.DataFrame()\n",
    "for subset in tqdm_notebook(itertools.combinations(keys, 2)):\n",
    "    i = subset[0]\n",
    "    j = subset[1]\n",
    "    piv['{0}'.format(subset)] = cij(piv, i, j, 20)\n",
    "    count = count + 1"
   ]
  },
  {
   "cell_type": "code",
   "execution_count": null,
   "metadata": {
    "collapsed": true
   },
   "outputs": [],
   "source": [
    "idx = piv.groupby(lambda x: x.time())[\"('1rishabhtrivedi', 'bhagyeshvikani')\"].sum().index\n",
    "idx.shape"
   ]
  },
  {
   "cell_type": "code",
   "execution_count": null,
   "metadata": {
    "collapsed": true
   },
   "outputs": [],
   "source": [
    "cij_frame = pd.DataFrame(index=idx)\n",
    "for subset in itertools.combinations(keys, 2):\n",
    "    subset = str(subset)\n",
    "    cij_frame[subset] = piv.groupby(lambda x: x.time())[subset].sum()"
   ]
  },
  {
   "cell_type": "code",
   "execution_count": null,
   "metadata": {
    "collapsed": true
   },
   "outputs": [],
   "source": [
    "div_frame = pd.DataFrame(index=['div'])\n",
    "def diversity():\n",
    "    for subset in tqdm_notebook(itertools.combinations(keys, 2)):\n",
    "        subset = str(subset)\n",
    "\n",
    "        vector = cij_frame[subset]      \n",
    "        p_vector = vector/float(sum(vector))        \n",
    "        plogged = p_vector.apply(lambda x: x*pd.np.log(x))\n",
    "        entropy = -1*pd.np.nansum(plogged)\n",
    "        div_score = math.exp(entropy)\n",
    "        div_frame[subset] = div_score\n",
    "diversity()"
   ]
  },
  {
   "cell_type": "code",
   "execution_count": null,
   "metadata": {
    "collapsed": true
   },
   "outputs": [],
   "source": [
    "div_frame.T.describe()"
   ]
  },
  {
   "cell_type": "code",
   "execution_count": null,
   "metadata": {
    "collapsed": true
   },
   "outputs": [],
   "source": [
    "df2 = div_frame.T.reset_index()\n",
    "df2['Person 1'] = '' "
   ]
  },
  {
   "cell_type": "code",
   "execution_count": null,
   "metadata": {
    "collapsed": true
   },
   "outputs": [],
   "source": [
    "def custom(x):\n",
    "    try:\n",
    "        return x.replace('(','').replace(')','').replace(\"'\",'')\n",
    "    except ValueError:\n",
    "        print(x)"
   ]
  },
  {
   "cell_type": "code",
   "execution_count": null,
   "metadata": {
    "collapsed": true
   },
   "outputs": [],
   "source": [
    "df2['Person_1'] = df2['Person_1'].map(custom)\n",
    "df2['Person_2'] = df2['Person_2'].map(custom)"
   ]
  },
  {
   "cell_type": "code",
   "execution_count": null,
   "metadata": {
    "collapsed": true
   },
   "outputs": [],
   "source": [
    "df2.to_csv('Diversity_Scores.csv')"
   ]
  }
 ],
 "metadata": {
  "kernelspec": {
   "display_name": "Python 2",
   "language": "python",
   "name": "python2"
  },
  "language_info": {
   "codemirror_mode": {
    "name": "ipython",
    "version": 2
   },
   "file_extension": ".py",
   "mimetype": "text/x-python",
   "name": "python",
   "nbconvert_exporter": "python",
   "pygments_lexer": "ipython2",
   "version": "2.7.6"
  }
 },
 "nbformat": 4,
 "nbformat_minor": 0
}
